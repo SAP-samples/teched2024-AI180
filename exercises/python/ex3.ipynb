{
 "cells": [
  {
   "cell_type": "markdown",
   "id": "f14fe80f-519b-48e4-a463-3995511d713e",
   "metadata": {},
   "source": [
    "# Data Masking"
   ]
  },
  {
   "cell_type": "markdown",
   "id": "59958a6f-b6fc-49f6-8f87-bb48db20326c",
   "metadata": {},
   "source": [
    "The data masking module anonymizes or pseudonymizes personally identifiable information (PII) before it is processed by the LLM module. When data is anonymized, all identifying information is replaced with placeholders (e.g., MASKED_ENTITY), and the original data cannot be recovered, ensuring that no trace of the original information is retained. In contrast, pseudonymized data is substituted with unique placeholders (e.g., MASKED_ENTITY_ID), allowing the original information to be restored if needed. In both cases, the masking module identifies sensitive data and replaces it with appropriate placeholders before further processing."
   ]
  },
  {
   "cell_type": "markdown",
   "id": "67ee9830-42b9-4171-bd46-4698fa8cde15",
   "metadata": {},
   "source": [
    "First up the `DataMasking` module must be imported and configured. A method (either `ANONYMIZATION` or `PSEUDONYMIZATION`) must be set and entities must be targeted (`EMAIL`, `PHONE`, `PERSON`, `ORG`, `LOCATION`)."
   ]
  },
  {
   "cell_type": "code",
   "execution_count": null,
   "id": "6431ec15-d718-4d4c-95eb-891d6875540e",
   "metadata": {},
   "outputs": [],
   "source": [
    "from gen_ai_hub.orchestration.models.data_masking import DataMasking\n",
    "from gen_ai_hub.orchestration.models.sap_data_privacy_integration import SAPDataPrivacyIntegration, MaskingMethod, ProfileEntity\n",
    "\n",
    "data_masking = DataMasking(\n",
    "    providers=[\n",
    "        SAPDataPrivacyIntegration(\n",
    "            method=MaskingMethod.ANONYMIZATION,  # or MaskingMethod.PSEUDONYMIZATION\n",
    "            entities=[\n",
    "                ProfileEntity.EMAIL,\n",
    "                ProfileEntity.PHONE,\n",
    "                ProfileEntity.PERSON,\n",
    "                ProfileEntity.ORG,\n",
    "                ProfileEntity.LOCATION\n",
    "            ]\n",
    "        )\n",
    "    ]\n",
    ")"
   ]
  },
  {
   "cell_type": "markdown",
   "id": "bf199bcc-a7c5-446f-8266-ae9a2f5d9706",
   "metadata": {},
   "source": [
    "To complete the configuration, simply incorporate the pre-configured `DataMasking` module into the `OrchestrationConfig`, following the same process we've used for other modules."
   ]
  },
  {
   "cell_type": "code",
   "execution_count": null,
   "id": "f1154571-170f-4071-9e49-a04fba187b35",
   "metadata": {},
   "outputs": [],
   "source": [
    "import os\n",
    "\n",
    "from gen_ai_hub.orchestration.models.config import OrchestrationConfig\n",
    "from gen_ai_hub.orchestration.models.template import Template, TemplateValue\n",
    "from gen_ai_hub.orchestration.models.llm import LLM\n",
    "from gen_ai_hub.orchestration.models.message import SystemMessage, UserMessage\n",
    "from gen_ai_hub.orchestration.service import OrchestrationService\n",
    "\n",
    "config = OrchestrationConfig(\n",
    "    template=Template(\n",
    "        messages=[\n",
    "            SystemMessage(\"You are a helpful AI assistant.\"),\n",
    "            UserMessage(\"Please repeat the following input: {{?pii}}\"),\n",
    "        ]\n",
    "    ),\n",
    "    llm=LLM(\n",
    "        name=\"gemini-1.5-flash\",\n",
    "    ),\n",
    "    data_masking=data_masking\n",
    ")\n",
    "\n",
    "orchestration_service = OrchestrationService(\n",
    "    api_url=os.environ[\"AICORE_ORCHESTRATION_DEPLOYMENT_URL\"],\n",
    "    config=config,\n",
    ")\n",
    "\n",
    "result = orchestration_service.run(\n",
    "    config=config,\n",
    "    template_values=[\n",
    "        TemplateValue(\n",
    "            name=\"pii\",\n",
    "            value=\"My name is Max Mustermann. You can contact me via max.mustermann@sap.com. I live in Dietmar-Hopp-Allee 16, Walldorf Germany.\",\n",
    "        )\n",
    "    ]\n",
    ")\n",
    "\n",
    "print(result.orchestration_result.choices[0].message.content)"
   ]
  },
  {
   "cell_type": "markdown",
   "id": "8d0a5e82-f697-41d6-8970-a4ebdefd314c",
   "metadata": {},
   "source": [
    "Make sure to try out anonymizing/pseudonymizing different entities or try out changing the user message."
   ]
  },
  {
   "cell_type": "markdown",
   "id": "efc84472-b662-4090-8a77-d748df4b9c4e",
   "metadata": {},
   "source": [
    "# Summary"
   ]
  },
  {
   "cell_type": "markdown",
   "id": "93c43f9a-7b69-4d91-8b32-2067ff849275",
   "metadata": {},
   "source": [
    "In this exercise you learned how data can be masked using orchestration. Now let's combine capabilities into a more complex scenario. Continue to [Exercise 4 - Orchestration Chatbot](./ex4.ipynb)."
   ]
  }
 ],
 "metadata": {
  "kernelspec": {
   "display_name": "Python 3 (ipykernel)",
   "language": "python",
   "name": "python3"
  },
  "language_info": {
   "codemirror_mode": {
    "name": "ipython",
    "version": 3
   },
   "file_extension": ".py",
   "mimetype": "text/x-python",
   "name": "python",
   "nbconvert_exporter": "python",
   "pygments_lexer": "ipython3",
   "version": "3.13.2"
  }
 },
 "nbformat": 4,
 "nbformat_minor": 5
}
