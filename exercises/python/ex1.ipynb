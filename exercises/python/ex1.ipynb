{
 "cells": [
  {
   "cell_type": "markdown",
   "id": "637c87e6-ce3e-418a-811a-58edb1793d1d",
   "metadata": {},
   "source": [
    "# Preparation"
   ]
  },
  {
   "cell_type": "markdown",
   "id": "3ee09bfd-3ac5-4eb5-85a4-902ceb22cc27",
   "metadata": {},
   "source": [
    "## Authentication"
   ]
  },
  {
   "cell_type": "markdown",
   "id": "3da77e21-8ce3-462a-82bd-9b455f4b70e4",
   "metadata": {},
   "source": [
    "Before requests to orchestration can be issued, we need to provide authentication details to the SDK. This can be done either via a configuration file or via the environment. Make sure to check out the [SAP generative AI hub SDK project description](https://pypi.org/project/generative-ai-hub-sdk/) for more details. Below you will find an example for authenticating via environment variables using this very notebook.\n",
    "\n",
    "> **WARNING:**\n",
    "> Below code should never be used in production scenarios and is only for the purpose of illustrating which environment variables to use!\n",
    "> Credentials should never be defined in code!"
   ]
  },
  {
   "cell_type": "code",
   "execution_count": null,
   "id": "f3fe1cc2-ceb1-4a07-aad2-b711674b4e89",
   "metadata": {},
   "outputs": [],
   "source": [
    "import os\n",
    "\n",
    "os.environ[\"AICORE_AUTH_URL\"] = \"redacted\"\n",
    "os.environ[\"AICORE_BASE_URL\"] = \"redacted\"\n",
    "os.environ[\"AICORE_CLIENT_ID\"] = \"redacted\"\n",
    "os.environ[\"AICORE_CLIENT_SECRET\"] = \"redacted\"\n",
    "os.environ[\"AICORE_ORCHESTRATION_DEPLOYMENT_URL\"] = \"redacted\"\n",
    "os.environ[\"AICORE_RESOURCE_GROUP\"] = \"redacted\""
   ]
  },
  {
   "cell_type": "markdown",
   "id": "56c63705-6c9f-4cc0-ad6a-3dd88e6ce860",
   "metadata": {},
   "source": [
    "You will need to authenticate in every exercise."
   ]
  },
  {
   "cell_type": "markdown",
   "id": "1e8f1dfa-cd15-452c-a97e-23df5c546eef",
   "metadata": {},
   "source": [
    "## Intializing the Orchestration Service"
   ]
  },
  {
   "cell_type": "markdown",
   "id": "3d569326-4f43-4bae-a364-7d766ec07bcf",
   "metadata": {},
   "source": [
    "Typically, a virtual deployment of Orchestration must be configured before any interactions can occur. Once deployed, you will have access to a unique endpoint URL. For this session, the deployment has already been created for you. The corresponding URL, along with the authentication credentials, have been provided to you in advance. If you've adhered to the prerequisite guidelines, the URL should already be present in the environment variable `AICORE_ORCHESTRATION_DEPLOYMENT_URL`."
   ]
  },
  {
   "cell_type": "markdown",
   "id": "ac688975-c661-49b6-9bb0-6b9e3d154b49",
   "metadata": {},
   "source": [
    "# Templating"
   ]
  },
  {
   "cell_type": "markdown",
   "id": "be943bca-8929-4985-8599-428734792bc7",
   "metadata": {},
   "source": [
    "Now that everything is prepared, we can write our first basic orchestration pipeline. The first fundamental module we will look at is templating. The templating module provides capabilities to define prompt skeletons that can then be parameterized per inference call. To check out how this works we first up select a Large Language Model (LLM) that will be used for inference."
   ]
  },
  {
   "cell_type": "code",
   "execution_count": null,
   "id": "311a7151-e10a-4e95-b03a-92047c077215",
   "metadata": {},
   "outputs": [],
   "source": [
    "from gen_ai_hub.orchestration.models.llm import LLM\n",
    "\n",
    "llm = LLM(\n",
    "    name=\"gemini-1.5-flash\",\n",
    "    version=\"latest\",\n",
    "    parameters={\"max_tokens\": 256, \"temperature\": 0.2},\n",
    ")"
   ]
  },
  {
   "cell_type": "markdown",
   "id": "8f817af4-fece-4d7b-afdb-0c6088940857",
   "metadata": {},
   "source": [
    "Now we can create a template using the template object provided by the SAP generative AI hub SDK."
   ]
  },
  {
   "cell_type": "code",
   "execution_count": null,
   "id": "8ab7da4b-47a4-408e-bbed-598323e4c95a",
   "metadata": {},
   "outputs": [],
   "source": [
    "from gen_ai_hub.orchestration.models.message import SystemMessage, UserMessage\n",
    "from gen_ai_hub.orchestration.models.template import Template, TemplateValue\n",
    "\n",
    "template = Template(\n",
    "    messages=[\n",
    "        SystemMessage(\"You are a helpful translation assistant.\"),\n",
    "        UserMessage(\n",
    "            \"Translate the following text to {{?to_lang}}: {{?text}}\",\n",
    "        ),\n",
    "    ],\n",
    "    defaults=[\n",
    "        TemplateValue(name=\"to_lang\", value=\"English\"),\n",
    "    ],\n",
    ")"
   ]
  },
  {
   "cell_type": "markdown",
   "id": "0522e4cf-fcce-4219-a02d-ce94a2fd0443",
   "metadata": {},
   "source": [
    "The code above creates a template that provides\n",
    "\n",
    "- a system message,\n",
    "- a user message that leverages templating syntax,\n",
    "- default values for the introduced template parameters.\n",
    "\n",
    "Currently there are three message types available:\n",
    "- `SystemMessage`: A message for priming AI behavior. The system message is usually passed in as the first of a sequence of input messages.\n",
    "- `UserMessage`: A message from a user.\n",
    "- `AssistantMessage`: A message of the LLM.\n",
    "\n",
    "Parameters are defined within the message string using the following syntax: `{{?param_name}}`."
   ]
  },
  {
   "cell_type": "markdown",
   "id": "7f116aab-49fd-4161-934c-b675172626e4",
   "metadata": {},
   "source": [
    "Next up we create a orchestration configuration from the created objects."
   ]
  },
  {
   "cell_type": "code",
   "execution_count": null,
   "id": "99af79b8-1f77-4244-8528-40f1a8864e0b",
   "metadata": {},
   "outputs": [],
   "source": [
    "from gen_ai_hub.orchestration.models.config import OrchestrationConfig\n",
    "\n",
    "config = OrchestrationConfig(\n",
    "    template=template,\n",
    "    llm=llm,\n",
    ")"
   ]
  },
  {
   "cell_type": "markdown",
   "id": "816c83f9-a3bd-4e46-8c8b-3388b672cbad",
   "metadata": {},
   "source": [
    "Lastly, we can call the orchestration service. Note that the actual template values are now passed to the `run` method. The `TemplateValue` name parameter corresponds to the parameter name `text` provided in the user message string. The parameter `to_lang` is omitted and the default defined in the PromptTemplate is used."
   ]
  },
  {
   "cell_type": "code",
   "execution_count": null,
   "id": "fdf112f6-ba4a-4fe6-8c52-28015d81d1e8",
   "metadata": {},
   "outputs": [],
   "source": [
    "from gen_ai_hub.orchestration.service import OrchestrationService\n",
    "\n",
    "orchestration_service = OrchestrationService(\n",
    "    api_url=os.environ[\"AICORE_ORCHESTRATION_DEPLOYMENT_URL\"],\n",
    "    config=config,\n",
    ")\n",
    "result = orchestration_service.run(\n",
    "    template_values=[\n",
    "        TemplateValue(\n",
    "            name=\"text\",\n",
    "            value=\"Interaktives Lernen mit SAP.\",\n",
    "        )\n",
    "    ]\n",
    ")\n",
    "print(result.orchestration_result.choices[0].message.content)"
   ]
  },
  {
   "cell_type": "markdown",
   "id": "86cb096e-68d8-4e73-bf46-74531128b612",
   "metadata": {},
   "source": [
    "# Model Harmonization"
   ]
  },
  {
   "cell_type": "markdown",
   "id": "f06fc5aa-07f5-41b6-aba8-15527d833b7b",
   "metadata": {},
   "source": [
    "Orchestration harmonizes model usage, removing the need for prompting each model in vendor specific fashion. You can easily switch between a variety of models. Check out [this SAP Note](https://me.sap.com/notes/3437766) for further information regarding model availability. For this Jump-Start session model access is restricted to `gemini-1.5-flash` and `meta--llama3-70b-instruct` though. The code below will demonstrate how to easily switch between models, based on the templating code above!"
   ]
  },
  {
   "cell_type": "code",
   "execution_count": null,
   "id": "025870d1-fd8e-4330-ad5b-79ba5214f7f8",
   "metadata": {},
   "outputs": [],
   "source": [
    "orchestration_service.config.llm = LLM(\n",
    "    name=\"meta--llama3-70b-instruct\",\n",
    ")\n",
    "result = orchestration_service.run(\n",
    "    template_values=[\n",
    "        TemplateValue(\n",
    "            name=\"text\",\n",
    "            value=\"Interaktives Lernen mit SAP.\",\n",
    "        )\n",
    "    ]\n",
    ")\n",
    "print(result.orchestration_result.choices[0].message.content)"
   ]
  },
  {
   "cell_type": "markdown",
   "id": "e81f58ab-9954-4010-a884-ca045ebee737",
   "metadata": {},
   "source": [
    "You can switch between those two models and compare their responses throughout all exercises. Simply change the `name` parameter of the LLM module configuration."
   ]
  },
  {
   "cell_type": "markdown",
   "id": "543a458f-dc10-4c5d-9849-c9dd57ad5193",
   "metadata": {},
   "source": [
    "# Streaming"
   ]
  },
  {
   "cell_type": "markdown",
   "id": "759a5737-cd22-4103-b4cd-3e09f4d89cbf",
   "metadata": {},
   "source": [
    "When generating larger amounts of text you will notice that the time it takes the LLM to respond will increase.\n",
    "To make your application feel more responsive you can leverage the SDKs streaming capabilities where supported. \n",
    "When using this option you will get portions of the LLM answer as the text gets generated."
   ]
  },
  {
   "cell_type": "code",
   "execution_count": null,
   "id": "227db6ff-e477-46c1-875a-e37c8e52eda5",
   "metadata": {},
   "outputs": [],
   "source": [
    "# call without streaming\n",
    "orchestration_service.config.llm = LLM(\n",
    "    name=\"gpt-4o-mini\",\n",
    ")\n",
    "\n",
    "result = orchestration_service.run(\n",
    "    template_values=[\n",
    "        TemplateValue(\n",
    "            name=\"text\",\n",
    "            value=\"\"\"SAP Geschichte: Im Jahre 1972 hatten fünf Unternehmer eine Vision für das Geschäftspotenzial betriebswirtschaftlicher Software.\n",
    "Mit ihren Lösungen SAP R/2 und SAP R/3 etablierte SAP einen weltweiten Standard für ERP-Software (Enterprise Resource Planning).\n",
    "Mit SAP S/4HANA folgte dann die nächste Generation der SAP-ERP-Software.\n",
    "Die Plattform macht die In-Memory-Technologie für ERP-Anwender nutzbar, sodass riesige Datenmengen in Echtzeit verarbeitet werden können.\n",
    "Zudem lassen sich neue Technologien wie künstliche Intelligenz (KI) und maschinelles Lernen einbinden.\n",
    "Mit einem Kunden und einer Handvoll Mitarbeiter schlug die SAP einen Weg ein, der nicht nur die Welt der IT, sondern auch die Art und Weise, wie Unternehmen ihre Geschäfte abwickeln, langfristig verändern sollte.\n",
    "Nun, mit mehr als 50 Jahren Erfahrung und mehr als 400.000 Kunden, ist die SAP mehr denn je von dem Pioniergeist beflügelt, der ihre Gründer inspiriert hat.\n",
    "\n",
    "Die Anfangsjahre\n",
    "Am 1. April 1972 gründen fünf ehemalige IBM-Mitarbeiter das Unternehmen „Systemanalyse Programmentwicklung“.\n",
    "Die Vision von Dietmar Hopp, Hasso Plattner, Claus Wellenreuther, Klaus Tschira und Hans-Werner Hector: Standardsoftware für Unternehmen zu entwickeln, die alle betrieblichen Abläufe integriert und es ermöglicht, Daten in Echtzeit zu verarbeiten.\n",
    "Die SAP-Gründer und ihre Mitarbeiter entwickeln die Software im engen Austausch mit den Mitarbeitenden der Kunden. \n",
    "Bei Unternehmen wie ICI, Knoll, Burda und Linde entstehen bis 1975 in enger Zusammenarbeit mit deren Mitarbeitern Programme für die Finanzbuchhaltung (RF), die Rechnungsprüfung und die Materialwirtschaft (RM).\n",
    "Neben der Echtzeitverarbeitung der Daten setzen die SAP-Gründer auch auf Standardisierung und Integration.\n",
    "Diese Kombination bildet die Grundlage für den Aufstieg der SAP zum Weltmarktführer für betriebswirtschaftliche Software.\n",
    "Schon 1979 beginnt die Entwicklung der zweiten Softwaregeneration der SAP.\n",
    "1980 ziehen die rund 80 Mitarbeiter ins erste eigene Bürogebäude in Walldorf.\n",
    "\n",
    "Von R/3 zum globalen Lösungsanbieter\n",
    "Schon 1987 – während SAP R/2 boomt und ein Jahr vor dem Börsengang – beschließen die SAP-Chefs, die dritte Generation als multiplattformfähige Software zu entwickeln.\n",
    "1992 beginnt der Siegeszug der Client-Server-Software SAP R/3, die zu einem Wegbereiter der globalisierten Wirtschaft wird und SAP auch selbst endgültig zu einem Global Player mit Entwicklungszentren in aller Welt macht.\n",
    "1999 kündigt die SAP als Antwort auf Internet und New Economy die mySAP.com-Strategie an.\n",
    "Zehn Jahre später beschließt das Unternehmen, sich neben dem ERP-Markt auf drei weitere Zukunftsfelder zu konzentrieren: Mobil-, Datenbanktechnologie und die Cloud. Um möglichst schnell zu einem führenden Unternehmen auf diesen Märkten zu werden, übernimmt SAP mehrere Konkurrenten, darunter Business Objects, Sybase, Ariba, SuccessFactors, Fieldglass und Concur.\n",
    "\n",
    "Mit SAP HANA in die Cloud\n",
    "Von 2011 an setzen erste Kunden die In-Memory-Datenbank SAP HANA ein und analysieren damit Daten in Sekunden, wofür sie zuvor Tage und Wochen brauchten. Vier Jahre später stellt SAP ihre neueste Generation der Unternehmenssoftware vor, die vollständig auf SAP HANA basiert: SAP S/4HANA.\n",
    "SAP unterstützt Kunden heute auf dem Weg zum nachhaltigen, vernetzten und intelligenten Unternehmen, indem sie Lösungen, Technologie und Best Practices verknüpft, die für integrierte, digitale Geschäftsprozesse in der Cloud benötigt werden.\n",
    "SAP bietet Wahlfreiheit zwischen den vier größten Public-Cloud-Plattform-Betreibern.\n",
    "Die SAP Business Technology Platform unterstützt Kunden auf dem Weg zum intelligenten Unternehmen, egal ob Cloud-, On-Premise- oder hybride IT-Landschaft, und ist ein wesentliches Element des SAP-Angebots „RISE with SAP“. \n",
    "SAP zählt derzeit rund 300 Millionen Cloud-Anwender und bietet mit mehr als 100 Lösungen für alle Unternehmensfunktionen das größte Cloud-Portfolio aller Anbieter. SAP betreibt 47 Rechenzentren an 27 Standorten in 15 Ländern.\n",
    "\"\"\",\n",
    "        )\n",
    "    ]\n",
    ")\n",
    "\n",
    "print(result.orchestration_result.choices[0].message.content)"
   ]
  },
  {
   "cell_type": "code",
   "execution_count": null,
   "id": "afbcc994-ed99-4514-9b2f-5a416934e9f4",
   "metadata": {},
   "outputs": [],
   "source": [
    "# call with streaming\n",
    "orchestration_service.config.llm = LLM(\n",
    "    name=\"gpt-4o-mini\",\n",
    ")\n",
    "\n",
    "response = orchestration_service.stream(\n",
    "    template_values=[\n",
    "        TemplateValue(\n",
    "            name=\"text\",\n",
    "            value=\"\"\"SAP Geschichte: Im Jahre 1972 hatten fünf Unternehmer eine Vision für das Geschäftspotenzial betriebswirtschaftlicher Software.\n",
    "Mit ihren Lösungen SAP R/2 und SAP R/3 etablierte SAP einen weltweiten Standard für ERP-Software (Enterprise Resource Planning).\n",
    "Mit SAP S/4HANA folgte dann die nächste Generation der SAP-ERP-Software.\n",
    "Die Plattform macht die In-Memory-Technologie für ERP-Anwender nutzbar, sodass riesige Datenmengen in Echtzeit verarbeitet werden können.\n",
    "Zudem lassen sich neue Technologien wie künstliche Intelligenz (KI) und maschinelles Lernen einbinden.\n",
    "Mit einem Kunden und einer Handvoll Mitarbeiter schlug die SAP einen Weg ein, der nicht nur die Welt der IT, sondern auch die Art und Weise, wie Unternehmen ihre Geschäfte abwickeln, langfristig verändern sollte.\n",
    "Nun, mit mehr als 50 Jahren Erfahrung und mehr als 400.000 Kunden, ist die SAP mehr denn je von dem Pioniergeist beflügelt, der ihre Gründer inspiriert hat.\n",
    "\n",
    "Die Anfangsjahre\n",
    "Am 1. April 1972 gründen fünf ehemalige IBM-Mitarbeiter das Unternehmen „Systemanalyse Programmentwicklung“.\n",
    "Die Vision von Dietmar Hopp, Hasso Plattner, Claus Wellenreuther, Klaus Tschira und Hans-Werner Hector: Standardsoftware für Unternehmen zu entwickeln, die alle betrieblichen Abläufe integriert und es ermöglicht, Daten in Echtzeit zu verarbeiten.\n",
    "Die SAP-Gründer und ihre Mitarbeiter entwickeln die Software im engen Austausch mit den Mitarbeitenden der Kunden. \n",
    "Bei Unternehmen wie ICI, Knoll, Burda und Linde entstehen bis 1975 in enger Zusammenarbeit mit deren Mitarbeitern Programme für die Finanzbuchhaltung (RF), die Rechnungsprüfung und die Materialwirtschaft (RM).\n",
    "Neben der Echtzeitverarbeitung der Daten setzen die SAP-Gründer auch auf Standardisierung und Integration.\n",
    "Diese Kombination bildet die Grundlage für den Aufstieg der SAP zum Weltmarktführer für betriebswirtschaftliche Software.\n",
    "Schon 1979 beginnt die Entwicklung der zweiten Softwaregeneration der SAP.\n",
    "1980 ziehen die rund 80 Mitarbeiter ins erste eigene Bürogebäude in Walldorf.\n",
    "\n",
    "Von R/3 zum globalen Lösungsanbieter\n",
    "Schon 1987 – während SAP R/2 boomt und ein Jahr vor dem Börsengang – beschließen die SAP-Chefs, die dritte Generation als multiplattformfähige Software zu entwickeln.\n",
    "1992 beginnt der Siegeszug der Client-Server-Software SAP R/3, die zu einem Wegbereiter der globalisierten Wirtschaft wird und SAP auch selbst endgültig zu einem Global Player mit Entwicklungszentren in aller Welt macht.\n",
    "1999 kündigt die SAP als Antwort auf Internet und New Economy die mySAP.com-Strategie an.\n",
    "Zehn Jahre später beschließt das Unternehmen, sich neben dem ERP-Markt auf drei weitere Zukunftsfelder zu konzentrieren: Mobil-, Datenbanktechnologie und die Cloud. Um möglichst schnell zu einem führenden Unternehmen auf diesen Märkten zu werden, übernimmt SAP mehrere Konkurrenten, darunter Business Objects, Sybase, Ariba, SuccessFactors, Fieldglass und Concur.\n",
    "\n",
    "Mit SAP HANA in die Cloud\n",
    "Von 2011 an setzen erste Kunden die In-Memory-Datenbank SAP HANA ein und analysieren damit Daten in Sekunden, wofür sie zuvor Tage und Wochen brauchten. Vier Jahre später stellt SAP ihre neueste Generation der Unternehmenssoftware vor, die vollständig auf SAP HANA basiert: SAP S/4HANA.\n",
    "SAP unterstützt Kunden heute auf dem Weg zum nachhaltigen, vernetzten und intelligenten Unternehmen, indem sie Lösungen, Technologie und Best Practices verknüpft, die für integrierte, digitale Geschäftsprozesse in der Cloud benötigt werden.\n",
    "SAP bietet Wahlfreiheit zwischen den vier größten Public-Cloud-Plattform-Betreibern.\n",
    "Die SAP Business Technology Platform unterstützt Kunden auf dem Weg zum intelligenten Unternehmen, egal ob Cloud-, On-Premise- oder hybride IT-Landschaft, und ist ein wesentliches Element des SAP-Angebots „RISE with SAP“. \n",
    "SAP zählt derzeit rund 300 Millionen Cloud-Anwender und bietet mit mehr als 100 Lösungen für alle Unternehmensfunktionen das größte Cloud-Portfolio aller Anbieter. SAP betreibt 47 Rechenzentren an 27 Standorten in 15 Ländern.\n",
    "\"\"\",\n",
    "        )\n",
    "    ],\n",
    "    stream_options={\n",
    "        'chunk_size': 1\n",
    "    }\n",
    ")\n",
    "\n",
    "for chunk in response:\n",
    "    print(chunk.orchestration_result.choices[0].delta.content, end='')"
   ]
  },
  {
   "cell_type": "markdown",
   "id": "bf7bc8ae-4ed2-468a-9094-7c842bd22ee8",
   "metadata": {},
   "source": [
    "In the following exercises we will use streaming where possible."
   ]
  },
  {
   "cell_type": "markdown",
   "id": "33ab1cf0-6e9c-4576-94a5-bf00df4ba4a1",
   "metadata": {},
   "source": [
    "# Summary"
   ]
  },
  {
   "cell_type": "markdown",
   "id": "24ae4510-d8b7-41cc-b8c6-9b7268137411",
   "metadata": {},
   "source": [
    "Within this exercise you learned how to create a basic Orchestration pipeline that uses the Templating module. Also, you changed the model used for inference with ease. Let's explore more modules in the following exercises. Continue to [Exercise 2 - Orchestration Content Filtering](./ex2.ipynb)."
   ]
  }
 ],
 "metadata": {
  "kernelspec": {
   "display_name": "Python 3 (ipykernel)",
   "language": "python",
   "name": "python3"
  },
  "language_info": {
   "codemirror_mode": {
    "name": "ipython",
    "version": 3
   },
   "file_extension": ".py",
   "mimetype": "text/x-python",
   "name": "python",
   "nbconvert_exporter": "python",
   "pygments_lexer": "ipython3",
   "version": "3.13.2"
  }
 },
 "nbformat": 4,
 "nbformat_minor": 5
}
